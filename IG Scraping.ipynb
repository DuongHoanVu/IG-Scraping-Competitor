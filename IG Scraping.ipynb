{
 "cells": [
  {
   "cell_type": "markdown",
   "metadata": {},
   "source": [
    "# LIBRARY"
   ]
  },
  {
   "cell_type": "code",
   "execution_count": 1,
   "metadata": {},
   "outputs": [],
   "source": [
    "import numpy as np\n",
    "import pandas as pd\n",
    "from selenium import webdriver\n",
    "from webdriver_manager.chrome import ChromeDriverManager\n",
    "from selenium.webdriver.common.keys import Keys\n",
    "import time"
   ]
  },
  {
   "cell_type": "markdown",
   "metadata": {},
   "source": [
    "# DATA SOURCE"
   ]
  },
  {
   "cell_type": "code",
   "execution_count": 2,
   "metadata": {},
   "outputs": [],
   "source": [
    "data_source = \"https://www.instagram.com/kellykieuu/\"\n",
    "\n",
    "path = \"C:/Users/JamesDuong/.wdm/drivers/chromedriver/win32/87.0.4280.88/chromedriver.exe\"\n",
    "driver = webdriver.Chrome(path)\n",
    "#driver = webdriver.Chrome(ChromeDriverManager().install())\n",
    "\n",
    "driver.get(data_source)"
   ]
  },
  {
   "cell_type": "markdown",
   "metadata": {},
   "source": [
    "# EXTRACT DATA"
   ]
  },
  {
   "cell_type": "code",
   "execution_count": 3,
   "metadata": {},
   "outputs": [],
   "source": [
    "# GET OVERVIEW\n",
    "user_name = driver.find_element_by_class_name('-vDIg').find_element_by_tag_name('h1').text\n",
    "bio = driver.find_element_by_class_name('-vDIg').find_element_by_tag_name('span').text\n",
    "url_in_Bio = driver.find_element_by_class_name('-vDIg').find_element_by_tag_name('a').text\n",
    "\n",
    "posts_num, followers_num, following_num = driver.find_elements_by_class_name('-nal3 ')\n",
    "posts_num = posts_num.find_element_by_tag_name('span').text\n",
    "followers_num = followers_num.find_element_by_tag_name('span').text\n",
    "following_num = following_num.find_element_by_tag_name('span').text\n",
    "\n",
    "\n",
    "# Scroll page\n",
    "lenOfPage = driver.execute_script('window.scrollTo(0, document.body.scrollHeight); var lenOfPage=document.body.scrollHeight; return lenOfPage;')\n",
    "match=False\n",
    "while(match==False):\n",
    "        lastCount = lenOfPage\n",
    "        time.sleep(1)\n",
    "        lenOfPage = driver.execute_script('window.scrollTo(0, document.body.scrollHeight); var lenOfPage=document.body.scrollHeight; return lenOfPage;')\n",
    "        if lastCount == lenOfPage:\n",
    "            match=True\n",
    "\n",
    "\n",
    "# GET ALL POSTS' URL\n",
    "posts = []\n",
    "links = driver.find_elements_by_tag_name('a')\n",
    "for link in links:\n",
    "    post = link.get_attribute('href')\n",
    "    if '/p/' in post:\n",
    "        posts.append(post)"
   ]
  },
  {
   "cell_type": "markdown",
   "metadata": {},
   "source": [
    "# CLEAN DATA"
   ]
  },
  {
   "cell_type": "code",
   "execution_count": null,
   "metadata": {},
   "outputs": [],
   "source": [
    "Dict_image = {'photo_link': [],\n",
    "          'likes': [],\n",
    "          'comments': []}\n",
    "\n",
    "Dict_video = {'video_link': [],\n",
    "          'likes': [],\n",
    "          'comments': []}\n",
    "\n",
    "\n",
    "# Go through each post url, extract & clean desirable data \n",
    "i = 0\n",
    "for post in posts:\n",
    "    i += 1\n",
    "    driver.get(post)\n",
    "    shortcode = driver.current_url.split('/')[-2]\n",
    "    \n",
    "    # Determine a post type, either photo or video \n",
    "    Type = driver.find_element_by_xpath('//meta[@property=\"og:type\"]').get_attribute('content')\n",
    "    if Type =='instapp:photo':\n",
    "        photo_link = driver.find_element_by_xpath('//meta[@property=\"og:image\"]').get_attribute('content')\n",
    "\n",
    "        Dict_image['photo_link'].append(photo_link)\n",
    "    else:\n",
    "        video_link = driver.find_element_by_xpath('//meta[@property=\"og:video\"]').get_attribute('content')\n",
    "\n",
    "        Dict_video['video_link'].append(video_link)\n",
    "    \n",
    "    # Extract the number of LIKES, COMMENTS \n",
    "    try:\n",
    "        like_comment = driver.find_element_by_xpath('//meta[@property=\"og:description\"]').get_attribute('content')\n",
    "        likes, comments = like_comment.split('-')[0].split(',')\n",
    "        # clean\n",
    "        likes = likes.replace(' Likes', '')\n",
    "        comments = comments.replace('Comments', '').replace(' ', '')\n",
    "    except:\n",
    "        likes = driver.find_element_by_class_name('Nm9Fw').find_element_by_tag_name('span').text\n",
    "        comments = -1\n",
    "    \n",
    "    try:\n",
    "        likes = int(likes)\n",
    "        comments = int(comments)\n",
    "    except:\n",
    "        print(likes, comments)\n",
    "        pass\n",
    "    \n",
    "    Dict_image['likes'].append(likes)\n",
    "    Dict_image['comments'].append(comments)\n",
    "    \n",
    "    #print(post, likes, comments)\n",
    "    \n",
    "    if i == 10:\n",
    "        break"
   ]
  },
  {
   "cell_type": "markdown",
   "metadata": {},
   "source": [
    "# BUSINESS LOGIC LAYER"
   ]
  },
  {
   "cell_type": "code",
   "execution_count": null,
   "metadata": {},
   "outputs": [],
   "source": [
    "# Store Data in dataframe\n",
    "df_ig = pd.DataFrame(data=Dict_image)\n",
    "\n",
    "# Change data type of features\n",
    "df_ig['likes'] = df_ig['likes'].astype(int)\n",
    "df_ig['comments'] = df_ig['comments'].astype(int)\n",
    "df_ig.dtypes\n",
    "\n",
    "# Sorted top 5 most liked post on Instagram\n",
    "top_5_most_liked_ig_post = df_ig.sort_values('likes', ascending=False)[:5]\n",
    "\n",
    "# Sorted top 5 most commented post on Instagram\n",
    "top_5_most_commented_ig_post = df_ig.sort_values('comments', ascending=False)[:5]"
   ]
  },
  {
   "cell_type": "markdown",
   "metadata": {},
   "source": [
    "# SAVE TO EXCEL"
   ]
  },
  {
   "cell_type": "code",
   "execution_count": null,
   "metadata": {},
   "outputs": [],
   "source": [
    "from openpyxl import Workbook\n",
    "\n",
    "import openpyxl\n",
    "\n",
    "book = openpyxl.load_workbook('pandas_positioning.xlsx')\n",
    "\n",
    "sheet = book.active\n",
    "# a1 = sheet['A1']\n",
    "# a2 = sheet['A2']\n",
    "# a3 = sheet.cell(row=3, column=1)\n",
    "\n",
    "# print(a1.value)\n",
    "# print(a2.value) \n",
    "# print(a3.value)\n",
    "\n",
    "#a3 = sheet.cell(row=3, column=2)\n",
    "#print(a3.value)\n",
    "\n",
    "#print(book.get_sheet_names())\n",
    "\n",
    "# Open the sheet \"IG\" in excel file\n",
    "sheet_ig = book.get_sheet_by_name(\"IG\")"
   ]
  },
  {
   "cell_type": "code",
   "execution_count": null,
   "metadata": {},
   "outputs": [],
   "source": [
    "# IG URL\n",
    "sheet['B3'] = data_source\n",
    "\n",
    "# Bio\n",
    "sheet['C3'] = bio\n",
    "\n",
    "# URL in Bio\n",
    "sheet['D3'] = url_in_Bio\n",
    "\n",
    "# TOTAL FOLLOWERS\n",
    "sheet['B11'] = followers_num\n",
    "# TOTAL POSTS\n",
    "sheet['B15'] = posts_num\n",
    "\n",
    "# TOP 5 LIKED POSTS\n",
    "sheet['B19'] = top_5_most_liked_ig_post.iloc[0]['likes']\n",
    "sheet['C19'] = top_5_most_liked_ig_post.iloc[1]['likes']\n",
    "sheet['D19'] = top_5_most_liked_ig_post.iloc[2]['likes']\n",
    "sheet['E19'] = top_5_most_liked_ig_post.iloc[3]['likes']\n",
    "\n",
    "# Source: http://zetcode.com/python/openpyxl/\n",
    "book.save(\"pandas_positioning.xlsx\")"
   ]
  }
 ],
 "metadata": {
  "kernelspec": {
   "display_name": "Python 3",
   "language": "python",
   "name": "python3"
  },
  "language_info": {
   "codemirror_mode": {
    "name": "ipython",
    "version": 3
   },
   "file_extension": ".py",
   "mimetype": "text/x-python",
   "name": "python",
   "nbconvert_exporter": "python",
   "pygments_lexer": "ipython3",
   "version": "3.8.5"
  }
 },
 "nbformat": 4,
 "nbformat_minor": 4
}
